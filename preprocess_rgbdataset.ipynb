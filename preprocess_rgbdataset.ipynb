{
 "cells": [
  {
   "cell_type": "code",
   "execution_count": 1,
   "id": "226071bd",
   "metadata": {
    "ExecuteTime": {
     "end_time": "2023-01-28T12:01:27.281966Z",
     "start_time": "2023-01-28T12:01:26.118067Z"
    }
   },
   "outputs": [],
   "source": [
    "import os\n",
    "import numpy as np\n",
    "from tqdm import tqdm\n",
    "from skimage.io import imread, imshow\n",
    "from skimage.transform import resize\n",
    "import matplotlib.pyplot as plt\n",
    "import random"
   ]
  },
  {
   "cell_type": "code",
   "execution_count": 2,
   "id": "b0793c63",
   "metadata": {
    "ExecuteTime": {
     "end_time": "2023-01-28T12:01:27.297965Z",
     "start_time": "2023-01-28T12:01:27.282970Z"
    }
   },
   "outputs": [],
   "source": [
    "# https://www.kaggle.com/competitions/data-science-bowl-2018/overview"
   ]
  },
  {
   "cell_type": "code",
   "execution_count": 3,
   "id": "0b41b4e9",
   "metadata": {
    "ExecuteTime": {
     "end_time": "2023-01-28T12:01:27.313993Z",
     "start_time": "2023-01-28T12:01:27.298972Z"
    }
   },
   "outputs": [],
   "source": [
    "seed = 42\n",
    "np.random.seed = seed\n",
    "\n",
    "IMG_WIDTH = 256\n",
    "IMG_HEIGHT = 256\n",
    "IMG_CHANNELS = 3"
   ]
  },
  {
   "cell_type": "code",
   "execution_count": null,
   "id": "13c629c9",
   "metadata": {
    "ExecuteTime": {
     "start_time": "2023-01-28T12:01:26.683Z"
    }
   },
   "outputs": [
    {
     "name": "stderr",
     "output_type": "stream",
     "text": [
      "  0%|                                                                                          | 0/670 [00:00<?, ?it/s]c:\\users\\87290\\appdata\\local\\programs\\python\\python37\\lib\\site-packages\\ipykernel_launcher.py:15: DeprecationWarning: `np.bool` is a deprecated alias for the builtin `bool`. To silence this warning, use `bool` by itself. Doing this will not modify any behavior and is safe. If you specifically wanted the numpy scalar type, use `np.bool_` here.\n",
      "Deprecated in NumPy 1.20; for more details and guidance: https://numpy.org/devdocs/release/1.20.0-notes.html#deprecations\n",
      "  from ipykernel import kernelapp as app\n",
      " 85%|████████████████████████████████████████████████████████████████████▏           | 571/670 [03:28<00:23,  4.29it/s]"
     ]
    }
   ],
   "source": [
    "TRAIN_PATH = 'stage1_train/'  \n",
    "TEST_PATH =  'stage1_test/'  \n",
    "\n",
    "train_ids = next(os.walk(TRAIN_PATH))[1]\n",
    "test_ids = next(os.walk(TEST_PATH))[1]\n",
    "\n",
    "X_train = np.zeros((len(train_ids), IMG_HEIGHT, IMG_WIDTH, IMG_CHANNELS), dtype=np.uint8)\n",
    "Y_train = np.zeros((len(train_ids), IMG_HEIGHT, IMG_WIDTH, 1), dtype=np.bool_)\n",
    "for n, id_ in tqdm(enumerate(train_ids), total=len(train_ids)):\n",
    "    path = TRAIN_PATH + id_\n",
    "    img = imread(path + '/images/' + id_ + '.png')[:, :, :IMG_CHANNELS]\n",
    "    img = resize(img, (IMG_HEIGHT, IMG_WIDTH), mode='constant', preserve_range=True)\n",
    "    # Fill empty X_train with values from img\n",
    "    X_train[n] = img  \n",
    "    mask = np.zeros((IMG_HEIGHT, IMG_WIDTH, 1), dtype=np.bool)\n",
    "    \n",
    "    # mask\n",
    "    for mask_file in next(os.walk(path + '/masks/'))[2]:  \n",
    "        mask_ = imread(path + '/masks/' + mask_file)\n",
    "        mask_ = np.expand_dims(resize(mask_, (IMG_HEIGHT, IMG_WIDTH), mode='constant', preserve_range=True), axis=-1)\n",
    "        mask = np.maximum(mask, mask_)\n",
    "\n",
    "    Y_train[n] = mask\n",
    "\n",
    "X_test = np.zeros((len(test_ids), IMG_HEIGHT, IMG_WIDTH, IMG_CHANNELS), dtype=np.uint8)\n",
    "for n, id_ in tqdm(enumerate(test_ids), total=len(test_ids)):\n",
    "    path = TEST_PATH + id_\n",
    "    img = imread(path + '/images/' + id_ + '.png')[:, :, :IMG_CHANNELS]\n",
    "    img = resize(img, (IMG_HEIGHT, IMG_WIDTH), mode='constant', preserve_range=True)\n",
    "    X_test[n] = img"
   ]
  },
  {
   "cell_type": "code",
   "execution_count": null,
   "id": "781fbfd2",
   "metadata": {
    "ExecuteTime": {
     "start_time": "2023-01-28T12:01:27.224Z"
    }
   },
   "outputs": [],
   "source": [
    "plt.figure(figsize=(20,20))\n",
    "for i in range(25):\n",
    "    plt.subplot(5,5,i+1) \n",
    "    plt.xticks([])\n",
    "    plt.yticks([])\n",
    "    plt.grid(False)\n",
    "    plt.imshow(X_test[i], cmap=plt.cm.binary)\n",
    "plt.show()"
   ]
  },
  {
   "cell_type": "code",
   "execution_count": null,
   "id": "7f0a470c",
   "metadata": {
    "ExecuteTime": {
     "end_time": "2023-01-28T11:53:26.089117Z",
     "start_time": "2023-01-28T11:53:20.287750Z"
    }
   },
   "outputs": [],
   "source": [
    "np.savez_compressed('/training_data', a=X_train, b=Y_train)"
   ]
  },
  {
   "cell_type": "code",
   "execution_count": null,
   "id": "0c6e2cb7",
   "metadata": {
    "ExecuteTime": {
     "end_time": "2023-01-28T11:56:26.314619Z",
     "start_time": "2023-01-28T11:56:26.306455Z"
    }
   },
   "outputs": [],
   "source": [
    "loaded = np.load(\"/training_data.npz\")"
   ]
  }
 ],
 "metadata": {
  "kernelspec": {
   "display_name": "Python 3 (ipykernel)",
   "language": "python",
   "name": "python3"
  },
  "language_info": {
   "codemirror_mode": {
    "name": "ipython",
    "version": 3
   },
   "file_extension": ".py",
   "mimetype": "text/x-python",
   "name": "python",
   "nbconvert_exporter": "python",
   "pygments_lexer": "ipython3",
   "version": "3.7.0"
  },
  "latex_envs": {
   "LaTeX_envs_menu_present": true,
   "autoclose": false,
   "autocomplete": true,
   "bibliofile": "biblio.bib",
   "cite_by": "apalike",
   "current_citInitial": 1,
   "eqLabelWithNumbers": true,
   "eqNumInitial": 1,
   "hotkeys": {
    "equation": "Ctrl-E",
    "itemize": "Ctrl-I"
   },
   "labels_anchors": false,
   "latex_user_defs": false,
   "report_style_numbering": false,
   "user_envs_cfg": false
  }
 },
 "nbformat": 4,
 "nbformat_minor": 5
}
